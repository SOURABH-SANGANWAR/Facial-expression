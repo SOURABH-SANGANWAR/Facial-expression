{
 "cells": [
  {
   "cell_type": "markdown",
   "metadata": {},
   "source": [
    "## Loading Model:"
   ]
  },
  {
   "cell_type": "code",
   "execution_count": 2,
   "metadata": {},
   "outputs": [],
   "source": [
    "import keras\n",
    "\n",
    "from keras.models import model_from_json\n",
    "path=\"AI_April-2021_SourabhSanganwar_facemodelarchitecture.json\"\n",
    "modelfile=open(path,'r')\n",
    "Model=model_from_json(modelfile.read())\n",
    "modelfile.close()\n",
    "Model.load_weights(\"AI_April-2021_SourabhSanganwar_facemodelweights.h5\")"
   ]
  },
  {
   "cell_type": "code",
   "execution_count": 3,
   "metadata": {},
   "outputs": [],
   "source": [
    "import numpy as np\n",
    "import cv2"
   ]
  },
  {
   "cell_type": "markdown",
   "metadata": {},
   "source": [
    "## setting up input from webcam:"
   ]
  },
  {
   "cell_type": "code",
   "execution_count": 4,
   "metadata": {},
   "outputs": [
    {
     "data": {
      "text/plain": [
       "True"
      ]
     },
     "execution_count": 4,
     "metadata": {},
     "output_type": "execute_result"
    }
   ],
   "source": [
    "brightness=180\n",
    "capt=cv2.VideoCapture(0)\n",
    "capt.set(3,640)\n",
    "capt.set(4,480)\n",
    "capt.set(10,brightness)"
   ]
  },
  {
   "cell_type": "markdown",
   "metadata": {},
   "source": [
    "## defining functions and maps in prediction:"
   ]
  },
  {
   "cell_type": "code",
   "execution_count": 5,
   "metadata": {},
   "outputs": [],
   "source": [
    "def preprocess(image):\n",
    "    image=cv2.cvtColor(image,cv2.COLOR_BGR2GRAY)           \n",
    "    image=image/255                                        \n",
    "    return image\n",
    "emotions={0:\"Angry\",1:\"Disgust\",2:\"Fear\",3:\"Happy\",4:\"Neutral\",5:\"Sad\",6:\"Surprise\"}\n",
    "\n",
    "def max_index (a,b):\n",
    "    for i in range(0,7):\n",
    "        if a[0][i]==b:\n",
    "            return i\n",
    "colour={\"Angry\":(0,0,250),\"Disgust\":(0,255,255),\"Fear\":(255,255,0),\"Happy\":(0,255,0),\"Neutral\":(0,0,0),\"Sad\":(200,0,129),\"Surprise\":(129,64,18)}"
   ]
  },
  {
   "cell_type": "markdown",
   "metadata": {},
   "source": [
    "## Predicting and showing image in webcam:"
   ]
  },
  {
   "cell_type": "code",
   "execution_count": 8,
   "metadata": {
    "scrolled": true
   },
   "outputs": [],
   "source": [
    "# final\n",
    "while True:\n",
    "    message,images=capt.read()\n",
    "    images=cv2.flip(images,1,0)\n",
    "    temp=np.asarray(images)\n",
    "    image=np.asarray(images)\n",
    "    face_cascade=cv2.CascadeClassifier(\"haarcascade.xml\")\n",
    "    image=cv2.cvtColor(image,cv2.COLOR_BGR2GRAY)\n",
    "    faces=face_cascade.detectMultiScale(image,1.1,4)\n",
    "    proba=0\n",
    "    Emotion=\" \"\n",
    "    Asc=0\n",
    "    for (x,y,w,h) in faces:\n",
    "        imag=images[x:x+w,y:y+h]\n",
    "        try:\n",
    "            imag=cv2.resize(imag,(32,32))\n",
    "        except:\n",
    "            pass\n",
    "        else:\n",
    "            imag=preprocess(imag)\n",
    "            imag=imag.reshape(1,32,32,1)\n",
    "            lists=Model.predict(imag)\n",
    "            proba=lists[0]\n",
    "            proba=proba.max()\n",
    "            index=0\n",
    "            for i in range(0,7):\n",
    "                if lists[0][i]==proba:\n",
    "                    index=i\n",
    "                    break\n",
    "            Emotion=emotions[max_index(lists,proba)]\n",
    "        cv2.putText(images,\"Facial Expression Detector\",(100,30),cv2.FONT_HERSHEY_COMPLEX,1,(0,250,0),2)\n",
    "        if proba>0.6:\n",
    "            cv2.putText(images,Emotion,(x+int(2*w/200),y+int(30*w/200)),cv2.FONT_HERSHEY_SIMPLEX,1*w/200,colour[Emotion],2*w//300+1)\n",
    "        images=cv2.rectangle(images,(x,y),(x+w,y+h),(255,0,0),1)\n",
    "    cv2.putText(images,\"Facial Expression Detector\",(100,30),cv2.FONT_HERSHEY_COMPLEX,1,(0,250,0),2)\n",
    "    cv2.imshow(\"ModelPrediction\",images)\n",
    "    Asc=cv2.waitKey(20)\n",
    "    if Asc==ord(\"e\"):\n",
    "        cv2.destroyAllWindows()\n",
    "        break\n",
    "    "
   ]
  },
  {
   "cell_type": "raw",
   "metadata": {},
   "source": []
  }
 ],
 "metadata": {
  "kernelspec": {
   "display_name": "Python 3",
   "language": "python",
   "name": "python3"
  },
  "language_info": {
   "codemirror_mode": {
    "name": "ipython",
    "version": 3
   },
   "file_extension": ".py",
   "mimetype": "text/x-python",
   "name": "python",
   "nbconvert_exporter": "python",
   "pygments_lexer": "ipython3",
   "version": "3.8.5"
  }
 },
 "nbformat": 4,
 "nbformat_minor": 4
}
